{
 "cells": [
  {
   "cell_type": "code",
   "execution_count": 5,
   "id": "85dd0f70-c5e3-4b9a-a67b-505228236113",
   "metadata": {
    "tags": []
   },
   "outputs": [
    {
     "name": "stdout",
     "output_type": "stream",
     "text": [
      "[0 0 0 ... 0 1 0]\n",
      "[[-1.16896551 10.27890996]\n",
      " [ 4.08872595 13.29672837]\n",
      " [-6.07537158  9.29310321]\n",
      " ...\n",
      " [-0.78014582 10.89446288]\n",
      " [ 4.58586586 -2.45376227]\n",
      " [ 3.08918096  3.64577513]]\n",
      "5000\n",
      "500\n",
      "4500\n"
     ]
    }
   ],
   "source": [
    "import  numpy as np\n",
    "from sklearn.datasets import make_blobs\n",
    "\n",
    "np.random.seed(42)\n",
    "\n",
    "# Create an imbalanced dataset with two features\n",
    "X, y = make_blobs(\n",
    "    n_samples=[4500,500],\n",
    "    n_features=2,  # Use only two features\n",
    "    cluster_std=[4.0,4.0],\n",
    "    random_state=42\n",
    ")\n",
    "print(y)\n",
    "print(X)\n",
    "\n",
    "print(len(y))\n",
    "print(len(y[y==1]))\n",
    "print(len(y[y==0]))"
   ]
  },
  {
   "cell_type": "code",
   "execution_count": 2,
   "id": "4882acb5-e817-41d0-b517-000abd1411ce",
   "metadata": {
    "tags": []
   },
   "outputs": [
    {
     "name": "stdout",
     "output_type": "stream",
     "text": [
      "Collecting latexify-py==0.4.2\n",
      "  Using cached latexify_py-0.4.2-py3-none-any.whl.metadata (3.9 kB)\n",
      "Requirement already satisfied: dill>=0.3.2 in c:\\users\\manis\\anaconda3\\lib\\site-packages (from latexify-py==0.4.2) (0.3.6)\n",
      "Using cached latexify_py-0.4.2-py3-none-any.whl (38 kB)\n",
      "Installing collected packages: latexify-py\n",
      "  Attempting uninstall: latexify-py\n",
      "    Found existing installation: latexify-py 0.3.1\n",
      "    Uninstalling latexify-py-0.3.1:\n",
      "      Successfully uninstalled latexify-py-0.3.1\n",
      "Successfully installed latexify-py-0.4.2\n"
     ]
    }
   ],
   "source": [
    "# Restart the runtime before running the examples below.\n",
    "!pip install latexify-py==0.4.2\n"
   ]
  },
  {
   "cell_type": "code",
   "execution_count": 20,
   "id": "9e0b7ed3-65c8-4404-9f8d-8afc6f9c9e4d",
   "metadata": {
    "tags": []
   },
   "outputs": [],
   "source": [
    "from sklearn.tree import DecisionTreeClassifier\n",
    "from sklearn.datasets import make_blobs\n",
    "import matplotlib.pyplot as plt\n",
    "import numpy as np\n",
    "# from latexify import latexify, format_axes\n",
    "\n",
    "X, y = make_blobs(n_samples=300, centers=4,\n",
    "                  random_state=0, cluster_std=1.2)\n",
    "def visualize_tree(depth, X, y, ax=None, cmap='rainbow'):\n",
    "    model = DecisionTreeClassifier(max_depth=depth)\n",
    "    ax = ax or plt.gca()\n",
    "    print(model, depth)\n",
    "    \n",
    "    # Plot the training points\n",
    "    ax.scatter(X[:, 0], X[:, 1], c=y, s=10, cmap=cmap,\n",
    "               clim=(y.min(), y.max()), zorder=3)\n",
    "    ax.axis('tight')\n",
    "    # format_axes(plt.gca())\n",
    "    plt.xlabel(r\"$x_1$\")\n",
    "    plt.ylabel(r\"$x_2$\")\n",
    "    xlim = ax.get_xlim()\n",
    "    ylim = ax.get_ylim()\n",
    "    \n",
    "    # fit the estimator\n",
    "    model.fit(X, y)\n",
    "    xx, yy = np.meshgrid(np.linspace(*xlim, num=200),\n",
    "                         np.linspace(*ylim, num=200))\n",
    "    Z = model.predict(np.c_[xx.ravel(), yy.ravel()]).reshape(xx.shape)\n",
    "\n",
    "    # Create a color plot with the results\n",
    "    n_classes = len(np.unique(y))\n",
    "    contours = ax.contourf(xx, yy, Z, alpha=0.2,\n",
    "                           levels=np.arange(n_classes + 1) - 0.5,\n",
    "                           cmap=cmap, \n",
    "                           zorder=1)\n",
    "\n",
    "    ax.set(xlim=xlim, ylim=ylim)\n",
    "    plt.tight_layout()\n",
    "    plt.savefig(f\"../ML_coding/-{depth}.pdf\", bbox_inches=\"tight\")\n",
    "    plt.clf()\n",
    "    plt.show()\n"
   ]
  },
  {
   "cell_type": "code",
   "execution_count": 21,
   "id": "ff1f1b47-e488-4535-a96c-5b31af0e0c09",
   "metadata": {
    "tags": []
   },
   "outputs": [
    {
     "name": "stdout",
     "output_type": "stream",
     "text": [
      "DecisionTreeClassifier(max_depth=1) 1\n"
     ]
    },
    {
     "data": {
      "text/plain": [
       "<Figure size 640x480 with 0 Axes>"
      ]
     },
     "metadata": {},
     "output_type": "display_data"
    },
    {
     "name": "stdout",
     "output_type": "stream",
     "text": [
      "DecisionTreeClassifier(max_depth=2) 2\n"
     ]
    },
    {
     "data": {
      "text/plain": [
       "<Figure size 640x480 with 0 Axes>"
      ]
     },
     "metadata": {},
     "output_type": "display_data"
    },
    {
     "name": "stdout",
     "output_type": "stream",
     "text": [
      "DecisionTreeClassifier(max_depth=3) 3\n"
     ]
    },
    {
     "data": {
      "text/plain": [
       "<Figure size 640x480 with 0 Axes>"
      ]
     },
     "metadata": {},
     "output_type": "display_data"
    },
    {
     "name": "stdout",
     "output_type": "stream",
     "text": [
      "DecisionTreeClassifier(max_depth=4) 4\n"
     ]
    },
    {
     "data": {
      "text/plain": [
       "<Figure size 640x480 with 0 Axes>"
      ]
     },
     "metadata": {},
     "output_type": "display_data"
    },
    {
     "name": "stdout",
     "output_type": "stream",
     "text": [
      "DecisionTreeClassifier(max_depth=5) 5\n"
     ]
    },
    {
     "data": {
      "text/plain": [
       "<Figure size 640x480 with 0 Axes>"
      ]
     },
     "metadata": {},
     "output_type": "display_data"
    },
    {
     "name": "stdout",
     "output_type": "stream",
     "text": [
      "DecisionTreeClassifier(max_depth=6) 6\n"
     ]
    },
    {
     "data": {
      "text/plain": [
       "<Figure size 640x480 with 0 Axes>"
      ]
     },
     "metadata": {},
     "output_type": "display_data"
    },
    {
     "name": "stdout",
     "output_type": "stream",
     "text": [
      "DecisionTreeClassifier(max_depth=7) 7\n"
     ]
    },
    {
     "data": {
      "text/plain": [
       "<Figure size 640x480 with 0 Axes>"
      ]
     },
     "metadata": {},
     "output_type": "display_data"
    },
    {
     "name": "stdout",
     "output_type": "stream",
     "text": [
      "DecisionTreeClassifier(max_depth=8) 8\n"
     ]
    },
    {
     "data": {
      "text/plain": [
       "<Figure size 640x480 with 0 Axes>"
      ]
     },
     "metadata": {},
     "output_type": "display_data"
    },
    {
     "name": "stdout",
     "output_type": "stream",
     "text": [
      "DecisionTreeClassifier(max_depth=9) 9\n"
     ]
    },
    {
     "data": {
      "text/plain": [
       "<Figure size 640x480 with 0 Axes>"
      ]
     },
     "metadata": {},
     "output_type": "display_data"
    },
    {
     "name": "stdout",
     "output_type": "stream",
     "text": [
      "DecisionTreeClassifier(max_depth=10) 10\n"
     ]
    },
    {
     "data": {
      "text/plain": [
       "<Figure size 640x480 with 0 Axes>"
      ]
     },
     "metadata": {},
     "output_type": "display_data"
    }
   ],
   "source": [
    "for depth in range(1,11):\n",
    "        visualize_tree(depth, X, y)"
   ]
  },
  {
   "cell_type": "markdown",
   "id": "c7ecbbf2-0920-4a33-ae9c-63d85ef86eef",
   "metadata": {},
   "source": [
    "decision TREE implementation"
   ]
  },
  {
   "cell_type": "code",
   "execution_count": 27,
   "id": "63b1029d-bcdc-4225-b509-3213c65a4b41",
   "metadata": {
    "tags": []
   },
   "outputs": [
    {
     "name": "stdout",
     "output_type": "stream",
     "text": [
      "Collecting graphviz\n",
      "  Downloading graphviz-0.20.1-py3-none-any.whl (47 kB)\n",
      "     ---------------------------------------- 0.0/47.0 kB ? eta -:--:--\n",
      "     -------- ------------------------------- 10.2/47.0 kB ? eta -:--:--\n",
      "     ------------------------ ------------- 30.7/47.0 kB 325.1 kB/s eta 0:00:01\n",
      "     -------------------------------------- 47.0/47.0 kB 391.5 kB/s eta 0:00:00\n",
      "Installing collected packages: graphviz\n",
      "Successfully installed graphviz-0.20.1\n",
      "Note: you may need to restart the kernel to use updated packages.\n"
     ]
    }
   ],
   "source": [
    "pip install graphviz"
   ]
  },
  {
   "cell_type": "code",
   "execution_count": 3,
   "id": "257a420e-93bb-41b5-9484-856191549939",
   "metadata": {},
   "outputs": [],
   "source": [
    "import graphviz\n",
    "\n",
    "\n",
    "class TreeNode:\n",
    "    def __init__(self, name, value=None, shape='rectangle'):\n",
    "        self.name = name\n",
    "        self.value = value\n",
    "        self.children = []\n",
    "        self.shape = shape\n",
    "\n",
    "    def add_child(self, child_node):\n",
    "        self.children.append(child_node)\n",
    "\n",
    "    def display_tree_text(self, level=0):\n",
    "        indent = \"  \" * level\n",
    "        print(f\"{indent}|- {self.name}: {self.value}\")\n",
    "        for child in self.children:\n",
    "            child.display_tree_text(level + 1)\n",
    "\n",
    "    def display_tree_graphviz(self, dot=None, parent_name=None, graph=None):\n",
    "        if graph is None:\n",
    "            graph = graphviz.Digraph(format='png')\n",
    "        graph.node(str(id(self)), str(self.name), shape=self.shape)\n",
    "\n",
    "        if parent_name is not None:\n",
    "            graph.edge(str(id(parent_name)), str(id(self)))\n",
    "\n",
    "        for child in self.children:\n",
    "            child.display_tree_graphviz(dot, self, graph)\n",
    "\n",
    "        return graph\n",
    "\n",
    "    def display_tree_directly(self):\n",
    "        graph = self.display_tree_graphviz()\n",
    "        src = graph.source\n",
    "        display(graphviz.Source(src, format='png'))"
   ]
  },
  {
   "cell_type": "code",
   "execution_count": 4,
   "id": "33044a8d-740c-4ac7-a388-28a4da9b106f",
   "metadata": {},
   "outputs": [],
   "source": [
    "# Creating nodes\n",
    "root = TreeNode(\"Root\")\n",
    "child1 = TreeNode(\"Child 1\")\n",
    "child2 = TreeNode(\"Child 2\")\n",
    "child3 = TreeNode(\"Child 3\")\n",
    "\n",
    "# Building the tree structure\n",
    "root.add_child(child1)\n",
    "root.add_child(child2)\n",
    "child2.add_child(child3)"
   ]
  },
  {
   "cell_type": "code",
   "execution_count": 3,
   "id": "0b02041e-c29d-4101-94bc-1f024743d091",
   "metadata": {
    "tags": []
   },
   "outputs": [
    {
     "name": "stdout",
     "output_type": "stream",
     "text": [
      "|- Root: None\n",
      "  |- Child 1: None\n",
      "  |- Child 2: None\n",
      "    |- Child 3: None\n"
     ]
    }
   ],
   "source": [
    "# Displaying the tree in text format\n",
    "root.display_tree_text()"
   ]
  },
  {
   "cell_type": "code",
   "execution_count": 5,
   "id": "19156124-11cc-46bb-9bb1-fd8f0e992069",
   "metadata": {
    "tags": []
   },
   "outputs": [
    {
     "data": {
      "image/svg+xml": [
       "<?xml version=\"1.0\" encoding=\"UTF-8\" standalone=\"no\"?>\n",
       "<!DOCTYPE svg PUBLIC \"-//W3C//DTD SVG 1.1//EN\"\n",
       " \"http://www.w3.org/Graphics/SVG/1.1/DTD/svg11.dtd\">\n",
       "<!-- Generated by graphviz version 2.50.0 (0)\n",
       " -->\n",
       "<!-- Pages: 1 -->\n",
       "<svg width=\"140pt\" height=\"188pt\"\n",
       " viewBox=\"0.00 0.00 140.00 188.00\" xmlns=\"http://www.w3.org/2000/svg\" xmlns:xlink=\"http://www.w3.org/1999/xlink\">\n",
       "<g id=\"graph0\" class=\"graph\" transform=\"scale(1 1) rotate(0) translate(4 184)\">\n",
       "<polygon fill=\"white\" stroke=\"transparent\" points=\"-4,4 -4,-184 136,-184 136,4 -4,4\"/>\n",
       "<!-- 2304723653072 -->\n",
       "<g id=\"node1\" class=\"node\">\n",
       "<title>2304723653072</title>\n",
       "<polygon fill=\"none\" stroke=\"black\" points=\"92.5,-180 38.5,-180 38.5,-144 92.5,-144 92.5,-180\"/>\n",
       "<text text-anchor=\"middle\" x=\"65.5\" y=\"-158.3\" font-family=\"Times New Roman,serif\" font-size=\"14.00\">Root</text>\n",
       "</g>\n",
       "<!-- 2304717187472 -->\n",
       "<g id=\"node2\" class=\"node\">\n",
       "<title>2304717187472</title>\n",
       "<polygon fill=\"none\" stroke=\"black\" points=\"57,-108 0,-108 0,-72 57,-72 57,-108\"/>\n",
       "<text text-anchor=\"middle\" x=\"28.5\" y=\"-86.3\" font-family=\"Times New Roman,serif\" font-size=\"14.00\">Child 1</text>\n",
       "</g>\n",
       "<!-- 2304723653072&#45;&gt;2304717187472 -->\n",
       "<g id=\"edge1\" class=\"edge\">\n",
       "<title>2304723653072&#45;&gt;2304717187472</title>\n",
       "<path fill=\"none\" stroke=\"black\" d=\"M56.35,-143.7C52.1,-135.64 46.94,-125.89 42.23,-116.98\"/>\n",
       "<polygon fill=\"black\" stroke=\"black\" points=\"45.31,-115.31 37.54,-108.1 39.12,-118.58 45.31,-115.31\"/>\n",
       "</g>\n",
       "<!-- 2304717186128 -->\n",
       "<g id=\"node3\" class=\"node\">\n",
       "<title>2304717186128</title>\n",
       "<polygon fill=\"none\" stroke=\"black\" points=\"132,-108 75,-108 75,-72 132,-72 132,-108\"/>\n",
       "<text text-anchor=\"middle\" x=\"103.5\" y=\"-86.3\" font-family=\"Times New Roman,serif\" font-size=\"14.00\">Child 2</text>\n",
       "</g>\n",
       "<!-- 2304723653072&#45;&gt;2304717186128 -->\n",
       "<g id=\"edge2\" class=\"edge\">\n",
       "<title>2304723653072&#45;&gt;2304717186128</title>\n",
       "<path fill=\"none\" stroke=\"black\" d=\"M74.89,-143.7C79.26,-135.64 84.56,-125.89 89.4,-116.98\"/>\n",
       "<polygon fill=\"black\" stroke=\"black\" points=\"92.52,-118.56 94.21,-108.1 86.37,-115.22 92.52,-118.56\"/>\n",
       "</g>\n",
       "<!-- 2304717183376 -->\n",
       "<g id=\"node4\" class=\"node\">\n",
       "<title>2304717183376</title>\n",
       "<polygon fill=\"none\" stroke=\"black\" points=\"132,-36 75,-36 75,0 132,0 132,-36\"/>\n",
       "<text text-anchor=\"middle\" x=\"103.5\" y=\"-14.3\" font-family=\"Times New Roman,serif\" font-size=\"14.00\">Child 3</text>\n",
       "</g>\n",
       "<!-- 2304717186128&#45;&gt;2304717183376 -->\n",
       "<g id=\"edge3\" class=\"edge\">\n",
       "<title>2304717186128&#45;&gt;2304717183376</title>\n",
       "<path fill=\"none\" stroke=\"black\" d=\"M103.5,-71.7C103.5,-63.98 103.5,-54.71 103.5,-46.11\"/>\n",
       "<polygon fill=\"black\" stroke=\"black\" points=\"107,-46.1 103.5,-36.1 100,-46.1 107,-46.1\"/>\n",
       "</g>\n",
       "</g>\n",
       "</svg>\n"
      ],
      "text/plain": [
       "<graphviz.graphs.Digraph at 0x2189c3c2410>"
      ]
     },
     "execution_count": 5,
     "metadata": {},
     "output_type": "execute_result"
    }
   ],
   "source": [
    "graph = root.display_tree_graphviz()\n",
    "graph"
   ]
  },
  {
   "cell_type": "code",
   "execution_count": 6,
   "id": "6b1669c8-2e39-4cb6-86dd-b82c315f6784",
   "metadata": {},
   "outputs": [],
   "source": [
    "class DecisionTreeNode:\n",
    "    def __init__(self, feature, threshold, decision=None, left=None, right=None, shape='box'):\n",
    "        self.feature = feature\n",
    "        self.threshold = threshold\n",
    "        self.decision = decision\n",
    "        self.left = left\n",
    "        self.right = right\n",
    "        self.shape = shape\n",
    "\n",
    "    def display_tree_graphviz(self, dot=None, parent_name=None, graph=None, edge_label=None):\n",
    "        if graph is None:\n",
    "            graph = graphviz.Digraph(format='png')\n",
    "\n",
    "        node_label = self.feature\n",
    "        \n",
    "        if self.threshold is not None:\n",
    "            node_label += f\" <= {self.threshold}\"\n",
    "        \n",
    "        if self.decision is not None:\n",
    "            node_label += f\"\\nDecision: {self.decision}\"\n",
    "        \n",
    "        graph.node(str(id(self)), node_label, shape=self.shape)\n",
    "\n",
    "        if parent_name is not None:\n",
    "            if edge_label is not None:\n",
    "                graph.edge(str(id(parent_name)), str(id(self)), label=edge_label)\n",
    "            else:\n",
    "                graph.edge(str(id(parent_name)), str(id(self)))\n",
    "\n",
    "        if self.left is not None:\n",
    "            self.left.display_tree_graphviz(dot, self, graph, edge_label=\"True\")\n",
    "        if self.right is not None:\n",
    "            self.right.display_tree_graphviz(dot, self, graph, edge_label=\"False\")\n",
    "\n",
    "        return graph"
   ]
  },
  {
   "cell_type": "code",
   "execution_count": 7,
   "id": "693370e1-c7f8-421b-a79f-68c751d06c63",
   "metadata": {},
   "outputs": [],
   "source": [
    "root = DecisionTreeNode(\"Feature A\", 5.0, decision=None)\n",
    "left_child = DecisionTreeNode(\"Feature B\", 3.0, decision=None)\n",
    "right_child = DecisionTreeNode(\"Feature C\", 8.0, decision=None)\n",
    "root.left = left_child\n",
    "root.right = right_child\n",
    "\n",
    "left_left = DecisionTreeNode(\"\", None, decision = 20.0)\n",
    "left_right = DecisionTreeNode(\"\", None, decision = 10.0)\n",
    "\n",
    "left_child.left = left_left\n",
    "left_child.right = left_right\n",
    "\n",
    "right_left = DecisionTreeNode(\"\", None, decision = 30.0)\n",
    "right_right = DecisionTreeNode(\"\", None, decision = 40.0)\n",
    "\n",
    "right_child.left = right_left\n",
    "right_child.right = right_right"
   ]
  },
  {
   "cell_type": "code",
   "execution_count": 8,
   "id": "6f2d888a-9386-4168-8e1b-96f2b3e8bade",
   "metadata": {},
   "outputs": [
    {
     "data": {
      "image/svg+xml": [
       "<?xml version=\"1.0\" encoding=\"UTF-8\" standalone=\"no\"?>\n",
       "<!DOCTYPE svg PUBLIC \"-//W3C//DTD SVG 1.1//EN\"\n",
       " \"http://www.w3.org/Graphics/SVG/1.1/DTD/svg11.dtd\">\n",
       "<!-- Generated by graphviz version 2.50.0 (0)\n",
       " -->\n",
       "<!-- Pages: 1 -->\n",
       "<svg width=\"450pt\" height=\"221pt\"\n",
       " viewBox=\"0.00 0.00 450.00 221.00\" xmlns=\"http://www.w3.org/2000/svg\" xmlns:xlink=\"http://www.w3.org/1999/xlink\">\n",
       "<g id=\"graph0\" class=\"graph\" transform=\"scale(1 1) rotate(0) translate(4 217)\">\n",
       "<polygon fill=\"white\" stroke=\"transparent\" points=\"-4,4 -4,-217 446,-217 446,4 -4,4\"/>\n",
       "<!-- 2304717284112 -->\n",
       "<g id=\"node1\" class=\"node\">\n",
       "<title>2304717284112</title>\n",
       "<polygon fill=\"none\" stroke=\"black\" points=\"277,-213 167,-213 167,-177 277,-177 277,-213\"/>\n",
       "<text text-anchor=\"middle\" x=\"222\" y=\"-191.3\" font-family=\"Times New Roman,serif\" font-size=\"14.00\">Feature A &lt;= 5.0</text>\n",
       "</g>\n",
       "<!-- 2304723653072 -->\n",
       "<g id=\"node2\" class=\"node\">\n",
       "<title>2304723653072</title>\n",
       "<polygon fill=\"none\" stroke=\"black\" points=\"213.5,-126 102.5,-126 102.5,-90 213.5,-90 213.5,-126\"/>\n",
       "<text text-anchor=\"middle\" x=\"158\" y=\"-104.3\" font-family=\"Times New Roman,serif\" font-size=\"14.00\">Feature B &lt;= 3.0</text>\n",
       "</g>\n",
       "<!-- 2304717284112&#45;&gt;2304723653072 -->\n",
       "<g id=\"edge1\" class=\"edge\">\n",
       "<title>2304717284112&#45;&gt;2304723653072</title>\n",
       "<path fill=\"none\" stroke=\"black\" d=\"M209.05,-176.8C199.85,-164.59 187.36,-147.99 177.03,-134.28\"/>\n",
       "<polygon fill=\"black\" stroke=\"black\" points=\"179.74,-132.06 170.93,-126.18 174.15,-136.27 179.74,-132.06\"/>\n",
       "<text text-anchor=\"middle\" x=\"207\" y=\"-147.8\" font-family=\"Times New Roman,serif\" font-size=\"14.00\">True</text>\n",
       "</g>\n",
       "<!-- 2304717276624 -->\n",
       "<g id=\"node5\" class=\"node\">\n",
       "<title>2304717276624</title>\n",
       "<polygon fill=\"none\" stroke=\"black\" points=\"342.5,-126 231.5,-126 231.5,-90 342.5,-90 342.5,-126\"/>\n",
       "<text text-anchor=\"middle\" x=\"287\" y=\"-104.3\" font-family=\"Times New Roman,serif\" font-size=\"14.00\">Feature C &lt;= 8.0</text>\n",
       "</g>\n",
       "<!-- 2304717284112&#45;&gt;2304717276624 -->\n",
       "<g id=\"edge4\" class=\"edge\">\n",
       "<title>2304717284112&#45;&gt;2304717276624</title>\n",
       "<path fill=\"none\" stroke=\"black\" d=\"M235.15,-176.8C244.49,-164.59 257.18,-147.99 267.67,-134.28\"/>\n",
       "<polygon fill=\"black\" stroke=\"black\" points=\"270.57,-136.25 273.87,-126.18 265.01,-131.99 270.57,-136.25\"/>\n",
       "<text text-anchor=\"middle\" x=\"272.5\" y=\"-147.8\" font-family=\"Times New Roman,serif\" font-size=\"14.00\">False</text>\n",
       "</g>\n",
       "<!-- 2304723453648 -->\n",
       "<g id=\"node3\" class=\"node\">\n",
       "<title>2304723453648</title>\n",
       "<polygon fill=\"none\" stroke=\"black\" points=\"96,-39 0,-39 0,0 96,0 96,-39\"/>\n",
       "<text text-anchor=\"middle\" x=\"48\" y=\"-7.8\" font-family=\"Times New Roman,serif\" font-size=\"14.00\">Decision: 20.0</text>\n",
       "</g>\n",
       "<!-- 2304723653072&#45;&gt;2304723453648 -->\n",
       "<g id=\"edge2\" class=\"edge\">\n",
       "<title>2304723653072&#45;&gt;2304723453648</title>\n",
       "<path fill=\"none\" stroke=\"black\" d=\"M136.27,-89.91C120.09,-77.19 97.75,-59.62 79.6,-45.35\"/>\n",
       "<polygon fill=\"black\" stroke=\"black\" points=\"81.62,-42.48 71.59,-39.05 77.29,-47.98 81.62,-42.48\"/>\n",
       "<text text-anchor=\"middle\" x=\"126\" y=\"-60.8\" font-family=\"Times New Roman,serif\" font-size=\"14.00\">True</text>\n",
       "</g>\n",
       "<!-- 2304723466384 -->\n",
       "<g id=\"node4\" class=\"node\">\n",
       "<title>2304723466384</title>\n",
       "<polygon fill=\"none\" stroke=\"black\" points=\"210,-39 114,-39 114,0 210,0 210,-39\"/>\n",
       "<text text-anchor=\"middle\" x=\"162\" y=\"-7.8\" font-family=\"Times New Roman,serif\" font-size=\"14.00\">Decision: 10.0</text>\n",
       "</g>\n",
       "<!-- 2304723653072&#45;&gt;2304723466384 -->\n",
       "<g id=\"edge3\" class=\"edge\">\n",
       "<title>2304723653072&#45;&gt;2304723466384</title>\n",
       "<path fill=\"none\" stroke=\"black\" d=\"M158.79,-89.91C159.33,-78.33 160.05,-62.75 160.67,-49.28\"/>\n",
       "<polygon fill=\"black\" stroke=\"black\" points=\"164.18,-49.2 161.14,-39.05 157.18,-48.88 164.18,-49.2\"/>\n",
       "<text text-anchor=\"middle\" x=\"175.5\" y=\"-60.8\" font-family=\"Times New Roman,serif\" font-size=\"14.00\">False</text>\n",
       "</g>\n",
       "<!-- 2304723459472 -->\n",
       "<g id=\"node6\" class=\"node\">\n",
       "<title>2304723459472</title>\n",
       "<polygon fill=\"none\" stroke=\"black\" points=\"328,-39 232,-39 232,0 328,0 328,-39\"/>\n",
       "<text text-anchor=\"middle\" x=\"280\" y=\"-7.8\" font-family=\"Times New Roman,serif\" font-size=\"14.00\">Decision: 30.0</text>\n",
       "</g>\n",
       "<!-- 2304717276624&#45;&gt;2304723459472 -->\n",
       "<g id=\"edge5\" class=\"edge\">\n",
       "<title>2304717276624&#45;&gt;2304723459472</title>\n",
       "<path fill=\"none\" stroke=\"black\" d=\"M285.62,-89.91C284.68,-78.33 283.42,-62.75 282.33,-49.28\"/>\n",
       "<polygon fill=\"black\" stroke=\"black\" points=\"285.8,-48.74 281.5,-39.05 278.82,-49.3 285.8,-48.74\"/>\n",
       "<text text-anchor=\"middle\" x=\"297\" y=\"-60.8\" font-family=\"Times New Roman,serif\" font-size=\"14.00\">True</text>\n",
       "</g>\n",
       "<!-- 2304723462288 -->\n",
       "<g id=\"node7\" class=\"node\">\n",
       "<title>2304723462288</title>\n",
       "<polygon fill=\"none\" stroke=\"black\" points=\"442,-39 346,-39 346,0 442,0 442,-39\"/>\n",
       "<text text-anchor=\"middle\" x=\"394\" y=\"-7.8\" font-family=\"Times New Roman,serif\" font-size=\"14.00\">Decision: 40.0</text>\n",
       "</g>\n",
       "<!-- 2304717276624&#45;&gt;2304723462288 -->\n",
       "<g id=\"edge6\" class=\"edge\">\n",
       "<title>2304717276624&#45;&gt;2304723462288</title>\n",
       "<path fill=\"none\" stroke=\"black\" d=\"M308.14,-89.91C323.88,-77.19 345.6,-59.62 363.26,-45.35\"/>\n",
       "<polygon fill=\"black\" stroke=\"black\" points=\"365.48,-48.06 371.05,-39.05 361.07,-42.62 365.48,-48.06\"/>\n",
       "<text text-anchor=\"middle\" x=\"360.5\" y=\"-60.8\" font-family=\"Times New Roman,serif\" font-size=\"14.00\">False</text>\n",
       "</g>\n",
       "</g>\n",
       "</svg>\n"
      ],
      "text/plain": [
       "<graphviz.graphs.Digraph at 0x2189c3d3290>"
      ]
     },
     "execution_count": 8,
     "metadata": {},
     "output_type": "execute_result"
    }
   ],
   "source": [
    "root.display_tree_graphviz()"
   ]
  },
  {
   "cell_type": "code",
   "execution_count": null,
   "id": "412645ed-b3e4-443f-9ebc-8280eefbb084",
   "metadata": {},
   "outputs": [],
   "source": []
  },
  {
   "cell_type": "code",
   "execution_count": null,
   "id": "24d5f7dc-d11c-464b-a863-24828f60e0c6",
   "metadata": {},
   "outputs": [],
   "source": []
  },
  {
   "cell_type": "markdown",
   "id": "f2ddb5bd-7d5b-4fa4-8cca-61e8ead51cd8",
   "metadata": {},
   "source": [
    "K fold cross validation"
   ]
  },
  {
   "cell_type": "code",
   "execution_count": 8,
   "id": "330df5e5-4f71-42dc-871f-8b43eff12674",
   "metadata": {
    "tags": []
   },
   "outputs": [],
   "source": [
    "from sklearn.model_selection import train_test_split\n",
    "from sklearn.tree import DecisionTreeClassifier\n",
    "from sklearn.datasets import make_moons\n",
    "import pandas as pd\n"
   ]
  },
  {
   "cell_type": "code",
   "execution_count": 15,
   "id": "a3e5409f-3035-489c-be3e-01038fe882bf",
   "metadata": {},
   "outputs": [],
   "source": [
    "# Generate the dataset\n",
    "X, y = make_moons(n_samples=1000, noise=0.3, random_state=42)\n",
    "\n",
    "\n",
    "# Split the data into training, validation, and test sets\n",
    "X_train, X_test, y_train, y_test = train_test_split(X, y, test_size=0.3, random_state=0)"
   ]
  },
  {
   "cell_type": "code",
   "execution_count": 16,
   "id": "0b307b8c-3440-44e4-ac55-1083e7f65b74",
   "metadata": {},
   "outputs": [
    {
     "name": "stdout",
     "output_type": "stream",
     "text": [
      "200\n",
      "[[ 1.13502951  0.1728874 ]\n",
      " [ 0.10508028  0.21240976]\n",
      " [ 0.87588796 -0.22494763]\n",
      " ...\n",
      " [ 1.77095705 -0.50943619]\n",
      " [-1.06177158  0.006786  ]\n",
      " [ 0.76117231  0.65196041]]\n",
      "[[-0.17186341  0.59624885]\n",
      " [ 1.25328273 -0.26541353]\n",
      " [ 0.72322405  0.2319425 ]\n",
      " ...\n",
      " [ 1.77095705 -0.50943619]\n",
      " [-1.06177158  0.006786  ]\n",
      " [ 0.76117231  0.65196041]]\n",
      "[[-0.17186341  0.59624885]\n",
      " [ 1.25328273 -0.26541353]\n",
      " [ 0.72322405  0.2319425 ]\n",
      " ...\n",
      " [ 1.77095705 -0.50943619]\n",
      " [-1.06177158  0.006786  ]\n",
      " [ 0.76117231  0.65196041]]\n",
      "[[-0.17186341  0.59624885]\n",
      " [ 1.25328273 -0.26541353]\n",
      " [ 0.72322405  0.2319425 ]\n",
      " ...\n",
      " [ 1.77095705 -0.50943619]\n",
      " [-1.06177158  0.006786  ]\n",
      " [ 0.76117231  0.65196041]]\n",
      "[[-0.17186341  0.59624885]\n",
      " [ 1.25328273 -0.26541353]\n",
      " [ 0.72322405  0.2319425 ]\n",
      " ...\n",
      " [ 1.13185203 -0.62315156]\n",
      " [ 0.49018099 -0.58952675]\n",
      " [ 1.68883219  0.10284504]]\n",
      "Fold 1: Accuracy: 0.8700\n",
      "Fold 2: Accuracy: 0.8850\n",
      "Fold 3: Accuracy: 0.9300\n",
      "Fold 4: Accuracy: 0.8650\n",
      "Fold 5: Accuracy: 0.8850\n"
     ]
    }
   ],
   "source": [
    "import numpy as np\n",
    "# Define the number of folds (k)\n",
    "k = 5\n",
    "\n",
    "# Initialize lists to store predictions and accuracies\n",
    "predictions = {}\n",
    "accuracies = []\n",
    "\n",
    "\n",
    "# Calculate the size of each fold\n",
    "fold_size = len(X) // k\n",
    "# df = pd.DataFrame(data=X)\n",
    "\n",
    "# print(df.head())\n",
    "print(fold_size)\n",
    "\n",
    "# Perform k-fold cross-validation\n",
    "for i in range(k):\n",
    "    # Split the data into training and test sets\n",
    "    # print(i)\n",
    "    test_start = i * fold_size\n",
    "    test_end = (i + 1) * fold_size\n",
    "    test_set = X[test_start:test_end]\n",
    "    test_labels = y[test_start:test_end]\n",
    "#     print(test_labels)\n",
    "    \n",
    "    training_set = np.concatenate((X[:test_start], X[test_end:]), axis=0)\n",
    "    print(training_set)\n",
    "    \n",
    "    training_labels = np.concatenate((y[:test_start], y[test_end:]), axis=0)\n",
    "    \n",
    "    # Train the model\n",
    "    dt_classifier = DecisionTreeClassifier(random_state=42)\n",
    "    dt_classifier.fit(training_set, training_labels)\n",
    "    \n",
    "    # Make predictions on the validation set\n",
    "    fold_predictions = dt_classifier.predict(test_set)\n",
    "    \n",
    "    # Calculate the accuracy of the fold\n",
    "    fold_accuracy = np.mean(fold_predictions == test_labels)\n",
    "    \n",
    "    # Store the predictions and accuracy of the fold\n",
    "    predictions[i] = fold_predictions\n",
    "    accuracies.append(fold_accuracy)\n",
    "\n",
    "# Print the predictions and accuracies of each fold\n",
    "for i in range(k):\n",
    "    print(\"Fold {}: Accuracy: {:.4f}\".format(i+1, accuracies[i]))"
   ]
  },
  {
   "cell_type": "code",
   "execution_count": null,
   "id": "e7297dd0-6a39-4201-886d-c8543c6ca4cc",
   "metadata": {},
   "outputs": [],
   "source": []
  },
  {
   "cell_type": "code",
   "execution_count": null,
   "id": "70d8dd03-93d7-4c96-9d2d-2a472ec6e34d",
   "metadata": {},
   "outputs": [],
   "source": []
  },
  {
   "cell_type": "code",
   "execution_count": 28,
   "id": "9e86d565-eeab-4ce5-bfd8-619a120f863e",
   "metadata": {
    "tags": []
   },
   "outputs": [],
   "source": [
    "# Step 1: Split the data into training, validation, and test sets\n",
    "X_train_val, X_test, y_train_val, y_test = train_test_split(X, y, test_size=0.3, random_state=42)\n",
    "X_train, X_val, y_train, y_val = train_test_split(X_train_val, y_train_val, test_size=0.285, random_state=42)"
   ]
  },
  {
   "cell_type": "code",
   "execution_count": 29,
   "id": "33afa28b-5608-40eb-a1c8-adc887d871c9",
   "metadata": {},
   "outputs": [],
   "source": [
    "hyperparameters = {}\n",
    "hyperparameters['max_depth'] = [1,2,3,4,5,6,7,8,9,10]\n",
    "hyperparameters['min_samples_split'] = [2,3,4,5,6,7,8]\n",
    "hyperparameters['criteria_values'] = ['gini', 'entropy']\n",
    "\n",
    "best_accuracy = 0\n",
    "best_hyperparameters = {}\n",
    "\n",
    "out = {}\n",
    "count = 0\n",
    "for max_depth in hyperparameters['max_depth']:\n",
    "    for min_samples_split in hyperparameters['min_samples_split']:\n",
    "        for criterion in hyperparameters['criteria_values']:\n",
    "            # Create and fit the decision tree classifier with the current hyperparameters\n",
    "            dt_classifier = DecisionTreeClassifier(max_depth=max_depth, min_samples_split=min_samples_split, criterion=criterion, random_state=42)\n",
    "            dt_classifier.fit(X_train, y_train)\n",
    "            \n",
    "            # Evaluate the performance on the validation set\n",
    "            val_accuracy = dt_classifier.score(X_val, y_val)\n",
    "            out[count] = {'max_depth': max_depth, 'min_samples_split': min_samples_split, 'criterion': criterion, 'val_accuracy': val_accuracy}\n",
    "            count += 1"
   ]
  },
  {
   "cell_type": "code",
   "execution_count": 30,
   "id": "011c0b1e-6865-4e85-b73a-e1ec75b1e687",
   "metadata": {},
   "outputs": [
    {
     "data": {
      "text/html": [
       "<div>\n",
       "<style scoped>\n",
       "    .dataframe tbody tr th:only-of-type {\n",
       "        vertical-align: middle;\n",
       "    }\n",
       "\n",
       "    .dataframe tbody tr th {\n",
       "        vertical-align: top;\n",
       "    }\n",
       "\n",
       "    .dataframe thead th {\n",
       "        text-align: right;\n",
       "    }\n",
       "</style>\n",
       "<table border=\"1\" class=\"dataframe\">\n",
       "  <thead>\n",
       "    <tr style=\"text-align: right;\">\n",
       "      <th></th>\n",
       "      <th>max_depth</th>\n",
       "      <th>min_samples_split</th>\n",
       "      <th>criterion</th>\n",
       "      <th>val_accuracy</th>\n",
       "    </tr>\n",
       "  </thead>\n",
       "  <tbody>\n",
       "    <tr>\n",
       "      <th>0</th>\n",
       "      <td>1</td>\n",
       "      <td>2</td>\n",
       "      <td>gini</td>\n",
       "      <td>0.785</td>\n",
       "    </tr>\n",
       "    <tr>\n",
       "      <th>1</th>\n",
       "      <td>1</td>\n",
       "      <td>2</td>\n",
       "      <td>entropy</td>\n",
       "      <td>0.785</td>\n",
       "    </tr>\n",
       "    <tr>\n",
       "      <th>2</th>\n",
       "      <td>1</td>\n",
       "      <td>3</td>\n",
       "      <td>gini</td>\n",
       "      <td>0.785</td>\n",
       "    </tr>\n",
       "    <tr>\n",
       "      <th>3</th>\n",
       "      <td>1</td>\n",
       "      <td>3</td>\n",
       "      <td>entropy</td>\n",
       "      <td>0.785</td>\n",
       "    </tr>\n",
       "    <tr>\n",
       "      <th>4</th>\n",
       "      <td>1</td>\n",
       "      <td>4</td>\n",
       "      <td>gini</td>\n",
       "      <td>0.785</td>\n",
       "    </tr>\n",
       "    <tr>\n",
       "      <th>...</th>\n",
       "      <td>...</td>\n",
       "      <td>...</td>\n",
       "      <td>...</td>\n",
       "      <td>...</td>\n",
       "    </tr>\n",
       "    <tr>\n",
       "      <th>135</th>\n",
       "      <td>10</td>\n",
       "      <td>6</td>\n",
       "      <td>entropy</td>\n",
       "      <td>0.895</td>\n",
       "    </tr>\n",
       "    <tr>\n",
       "      <th>136</th>\n",
       "      <td>10</td>\n",
       "      <td>7</td>\n",
       "      <td>gini</td>\n",
       "      <td>0.89</td>\n",
       "    </tr>\n",
       "    <tr>\n",
       "      <th>137</th>\n",
       "      <td>10</td>\n",
       "      <td>7</td>\n",
       "      <td>entropy</td>\n",
       "      <td>0.895</td>\n",
       "    </tr>\n",
       "    <tr>\n",
       "      <th>138</th>\n",
       "      <td>10</td>\n",
       "      <td>8</td>\n",
       "      <td>gini</td>\n",
       "      <td>0.885</td>\n",
       "    </tr>\n",
       "    <tr>\n",
       "      <th>139</th>\n",
       "      <td>10</td>\n",
       "      <td>8</td>\n",
       "      <td>entropy</td>\n",
       "      <td>0.895</td>\n",
       "    </tr>\n",
       "  </tbody>\n",
       "</table>\n",
       "<p>140 rows × 4 columns</p>\n",
       "</div>"
      ],
      "text/plain": [
       "    max_depth min_samples_split criterion val_accuracy\n",
       "0           1                 2      gini        0.785\n",
       "1           1                 2   entropy        0.785\n",
       "2           1                 3      gini        0.785\n",
       "3           1                 3   entropy        0.785\n",
       "4           1                 4      gini        0.785\n",
       "..        ...               ...       ...          ...\n",
       "135        10                 6   entropy        0.895\n",
       "136        10                 7      gini         0.89\n",
       "137        10                 7   entropy        0.895\n",
       "138        10                 8      gini        0.885\n",
       "139        10                 8   entropy        0.895\n",
       "\n",
       "[140 rows x 4 columns]"
      ]
     },
     "execution_count": 30,
     "metadata": {},
     "output_type": "execute_result"
    }
   ],
   "source": [
    "hparam_df = pd.DataFrame(out).T\n",
    "hparam_df"
   ]
  },
  {
   "cell_type": "code",
   "execution_count": 31,
   "id": "862b0de7-55ba-445e-89ce-4e15d48a72a2",
   "metadata": {
    "tags": []
   },
   "outputs": [
    {
     "data": {
      "text/html": [
       "<div>\n",
       "<style scoped>\n",
       "    .dataframe tbody tr th:only-of-type {\n",
       "        vertical-align: middle;\n",
       "    }\n",
       "\n",
       "    .dataframe tbody tr th {\n",
       "        vertical-align: top;\n",
       "    }\n",
       "\n",
       "    .dataframe thead th {\n",
       "        text-align: right;\n",
       "    }\n",
       "</style>\n",
       "<table border=\"1\" class=\"dataframe\">\n",
       "  <thead>\n",
       "    <tr style=\"text-align: right;\">\n",
       "      <th></th>\n",
       "      <th>max_depth</th>\n",
       "      <th>min_samples_split</th>\n",
       "      <th>criterion</th>\n",
       "      <th>val_accuracy</th>\n",
       "    </tr>\n",
       "  </thead>\n",
       "  <tbody>\n",
       "    <tr>\n",
       "      <th>76</th>\n",
       "      <td>6</td>\n",
       "      <td>5</td>\n",
       "      <td>gini</td>\n",
       "      <td>0.925</td>\n",
       "    </tr>\n",
       "    <tr>\n",
       "      <th>77</th>\n",
       "      <td>6</td>\n",
       "      <td>5</td>\n",
       "      <td>entropy</td>\n",
       "      <td>0.925</td>\n",
       "    </tr>\n",
       "    <tr>\n",
       "      <th>78</th>\n",
       "      <td>6</td>\n",
       "      <td>6</td>\n",
       "      <td>gini</td>\n",
       "      <td>0.925</td>\n",
       "    </tr>\n",
       "    <tr>\n",
       "      <th>79</th>\n",
       "      <td>6</td>\n",
       "      <td>6</td>\n",
       "      <td>entropy</td>\n",
       "      <td>0.925</td>\n",
       "    </tr>\n",
       "    <tr>\n",
       "      <th>80</th>\n",
       "      <td>6</td>\n",
       "      <td>7</td>\n",
       "      <td>gini</td>\n",
       "      <td>0.925</td>\n",
       "    </tr>\n",
       "    <tr>\n",
       "      <th>81</th>\n",
       "      <td>6</td>\n",
       "      <td>7</td>\n",
       "      <td>entropy</td>\n",
       "      <td>0.925</td>\n",
       "    </tr>\n",
       "    <tr>\n",
       "      <th>83</th>\n",
       "      <td>6</td>\n",
       "      <td>8</td>\n",
       "      <td>entropy</td>\n",
       "      <td>0.925</td>\n",
       "    </tr>\n",
       "    <tr>\n",
       "      <th>70</th>\n",
       "      <td>6</td>\n",
       "      <td>2</td>\n",
       "      <td>gini</td>\n",
       "      <td>0.92</td>\n",
       "    </tr>\n",
       "    <tr>\n",
       "      <th>82</th>\n",
       "      <td>6</td>\n",
       "      <td>8</td>\n",
       "      <td>gini</td>\n",
       "      <td>0.92</td>\n",
       "    </tr>\n",
       "    <tr>\n",
       "      <th>90</th>\n",
       "      <td>7</td>\n",
       "      <td>5</td>\n",
       "      <td>gini</td>\n",
       "      <td>0.915</td>\n",
       "    </tr>\n",
       "  </tbody>\n",
       "</table>\n",
       "</div>"
      ],
      "text/plain": [
       "   max_depth min_samples_split criterion val_accuracy\n",
       "76         6                 5      gini        0.925\n",
       "77         6                 5   entropy        0.925\n",
       "78         6                 6      gini        0.925\n",
       "79         6                 6   entropy        0.925\n",
       "80         6                 7      gini        0.925\n",
       "81         6                 7   entropy        0.925\n",
       "83         6                 8   entropy        0.925\n",
       "70         6                 2      gini         0.92\n",
       "82         6                 8      gini         0.92\n",
       "90         7                 5      gini        0.915"
      ]
     },
     "execution_count": 31,
     "metadata": {},
     "output_type": "execute_result"
    }
   ],
   "source": [
    "hparam_df.sort_values(by='val_accuracy', ascending=False).head(10)"
   ]
  },
  {
   "cell_type": "code",
   "execution_count": null,
   "id": "6a32dbaa-0524-47b6-b49d-c5c056e964e2",
   "metadata": {},
   "outputs": [],
   "source": []
  },
  {
   "cell_type": "code",
   "execution_count": null,
   "id": "df5d58e4-9365-4c12-a246-4184b755c4a4",
   "metadata": {},
   "outputs": [],
   "source": []
  },
  {
   "cell_type": "code",
   "execution_count": 17,
   "id": "0da5063f-77a5-4ba4-abf5-0e6a85ebf4fc",
   "metadata": {},
   "outputs": [
    {
     "data": {
      "image/png": "[encoded data removed]",
      "text/plain": [
       "<Figure size 1200x600 with 3 Axes>"
      ]
     },
     "metadata": {},
     "output_type": "display_data"
    }
   ],
   "source": [
    "import numpy as np\n",
    "import matplotlib.pyplot as plt\n",
    "from sklearn.linear_model import LinearRegression\n",
    "from sklearn.preprocessing import PolynomialFeatures\n",
    "from sklearn.pipeline import make_pipeline\n",
    "from sklearn.metrics import mean_squared_error\n",
    "\n",
    "# Generate synthetic data\n",
    "np.random.seed(42)\n",
    "X = np.sort(5 * np.random.rand(30, 1), axis=0)\n",
    "y_true = np.sin(X).ravel() + np.random.normal(0, 0.1, X.shape[0])\n",
    "\n",
    "# Model for a good fit\n",
    "model_good_fit = LinearRegression()\n",
    "model_good_fit.fit(X, y_true)\n",
    "y_good_fit = model_good_fit.predict(X)\n",
    "\n",
    "# Model for a high bias fit (linear)\n",
    "model_high_bias = make_pipeline(PolynomialFeatures(1), LinearRegression())\n",
    "model_high_bias.fit(X, y_true)\n",
    "y_high_bias = model_high_bias.predict(X)\n",
    "\n",
    "# Model for a high variance fit (polynomial)\n",
    "model_high_variance = make_pipeline(PolynomialFeatures(15), LinearRegression())\n",
    "model_high_variance.fit(X, y_true)\n",
    "y_high_variance = model_high_variance.predict(X)\n",
    "\n",
    "# Plotting\n",
    "plt.figure(figsize=(12, 6))\n",
    "\n",
    "# Good Fit\n",
    "plt.subplot(1, 3, 1)\n",
    "plt.scatter(X, y_true, color='black', label='True data')\n",
    "plt.plot(X, y_good_fit, color='blue', linewidth=2, label='Good Fit')\n",
    "plt.title('Good Fit')\n",
    "plt.legend()\n",
    "\n",
    "# High Bias\n",
    "plt.subplot(1, 3, 2)\n",
    "plt.scatter(X, y_true, color='black', label='True data')\n",
    "plt.plot(X, y_high_bias, color='red', linewidth=2, label='High Bias Fit')\n",
    "plt.title('High Bias Fit')\n",
    "plt.legend()\n",
    "\n",
    "# High Variance\n",
    "plt.subplot(1, 3, 3)\n",
    "plt.scatter(X, y_true, color='black', label='True data')\n",
    "plt.plot(X, y_high_variance, color='green', linewidth=2, label='High Variance Fit')\n",
    "plt.title('High Variance Fit')\n",
    "plt.legend()\n",
    "\n",
    "plt.show()\n"
   ]
  },
  {
   "cell_type": "code",
   "execution_count": null,
   "id": "38dfec0c-db01-4828-93aa-2dbc075b2a2d",
   "metadata": {},
   "outputs": [],
   "source": []
  },
  {
   "cell_type": "code",
   "execution_count": null,
   "id": "ecb227fe-9df7-43a5-8f95-5a27861ae48e",
   "metadata": {},
   "outputs": [],
   "source": []
  },
  {
   "cell_type": "code",
   "execution_count": 18,
   "id": "251ae483-1838-4784-8138-896517fcee84",
   "metadata": {},
   "outputs": [
    {
     "name": "stdout",
     "output_type": "stream",
     "text": [
      "Confusion Matrix:\n",
      "[[-80  20]\n",
      " [ 80  80]]\n"
     ]
    }
   ],
   "source": [
    "import numpy as np\n",
    "from sklearn.metrics import confusion_matrix\n",
    "\n",
    "# Given values\n",
    "precision = 0.8\n",
    "recall = 0.5\n",
    "total_examples = 100\n",
    "\n",
    "# Calculating TP, FP, and FN\n",
    "TP = int(precision * total_examples)\n",
    "FN = int((TP / recall) - TP)\n",
    "FP = int(TP / precision - TP)\n",
    "TN = total_examples - (TP + FN + FP)\n",
    "\n",
    "# Creating the confusion matrix\n",
    "conf_matrix = np.array([[TN, FP], [FN, TP]])\n",
    "\n",
    "print(\"Confusion Matrix:\")\n",
    "print(conf_matrix)\n"
   ]
  }
 ],
 "metadata": {
  "kernelspec": {
   "display_name": "Python 3 (ipykernel)",
   "language": "python",
   "name": "python3"
  },
  "language_info": {
   "codemirror_mode": {
    "name": "ipython",
    "version": 3
   },
   "file_extension": ".py",
   "mimetype": "text/x-python",
   "name": "python",
   "nbconvert_exporter": "python",
   "pygments_lexer": "ipython3",
   "version": "3.11.5"
  }
 },
 "nbformat": 4,
 "nbformat_minor": 5
}
